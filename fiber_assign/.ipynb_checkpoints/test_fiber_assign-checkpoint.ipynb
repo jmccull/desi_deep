{
 "cells": [
  {
   "cell_type": "code",
   "execution_count": null,
   "id": "5b9bb43c-20dc-4ce6-8034-e63ea1972dde",
   "metadata": {},
   "outputs": [],
   "source": [
    "import sys\n",
    "sys.path.append(\"./desisurveyops/py\") # go to parent dir\n",
    "\n",
    "from desisurveyops.fba_tertiary_design_io import read_yaml"
   ]
  },
  {
   "cell_type": "code",
   "execution_count": null,
   "id": "5afcf802-7c29-4292-a0bc-9a7d9d81dac8",
   "metadata": {},
   "outputs": [],
   "source": [
    "yml = read_yaml(\"./config-9999.yaml\")"
   ]
  },
  {
   "cell_type": "code",
   "execution_count": null,
   "id": "b3004cef-f3d5-445a-ae1d-9dc9e6101cf6",
   "metadata": {},
   "outputs": [],
   "source": [
    "yml[\"samples\"][\"LSST_Y1\"]"
   ]
  },
  {
   "cell_type": "code",
   "execution_count": null,
   "id": "7a399d7f-9511-4124-a7c0-982d507051fa",
   "metadata": {},
   "outputs": [],
   "source": [
    "mydict = read_yaml(\"./config-9999.yaml\")[\"samples\"]\n",
    "tertiary_target = str(*mydict.keys())"
   ]
  },
  {
   "cell_type": "code",
   "execution_count": null,
   "id": "df0d3f73-0538-4dc3-a3a0-9c1e17d24848",
   "metadata": {},
   "outputs": [],
   "source": [
    "tertiary_target"
   ]
  },
  {
   "cell_type": "code",
   "execution_count": null,
   "id": "2c8bb17e-e766-4e62-a568-9619bc04faa1",
   "metadata": {},
   "outputs": [],
   "source": []
  }
 ],
 "metadata": {
  "kernelspec": {
   "display_name": "DESI master",
   "language": "python",
   "name": "desi-master"
  },
  "language_info": {
   "codemirror_mode": {
    "name": "ipython",
    "version": 3
   },
   "file_extension": ".py",
   "mimetype": "text/x-python",
   "name": "python",
   "nbconvert_exporter": "python",
   "pygments_lexer": "ipython3",
   "version": "3.10.14"
  }
 },
 "nbformat": 4,
 "nbformat_minor": 5
}
