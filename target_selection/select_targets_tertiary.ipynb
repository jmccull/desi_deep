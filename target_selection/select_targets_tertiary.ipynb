{
 "cells": [
  {
   "cell_type": "code",
   "execution_count": null,
   "id": "0e68f66f-d671-480c-90ee-9af67ceda799",
   "metadata": {},
   "outputs": [],
   "source": [
    "from pathlib import Path\n",
    "\n",
    "import numpy as np\n",
    "import pandas as pd\n",
    "import matplotlib.pyplot as plt\n",
    "\n",
    "from astropy.table import Table, hstack, vstack\n",
    "from sklearn.neighbors import KernelDensity\n",
    "from tqdm import tqdm\n",
    "import astropy.units as u\n",
    "from astropy.coordinates import SkyCoord\n",
    "import mpl_scatter_density\n",
    "\n",
    "import numpy as np\n",
    "from matplotlib import cm\n",
    "from matplotlib.patches import Rectangle\n",
    "from matplotlib.colors import ListedColormap\n"
   ]
  },
  {
   "cell_type": "code",
   "execution_count": null,
   "id": "16d4d9be-2e93-4a6f-b028-5c1fd21e6dac",
   "metadata": {},
   "outputs": [],
   "source": [
    "params = {\n",
    "    \"legend.fontsize\": \"x-large\",\n",
    "    \"axes.labelsize\": \"x-large\",\n",
    "    \"axes.titlesize\": \"x-large\",\n",
    "    \"xtick.labelsize\": \"x-large\",\n",
    "    \"ytick.labelsize\": \"x-large\",\n",
    "    \"figure.facecolor\": \"w\",\n",
    "    \"xtick.top\": True,\n",
    "    \"ytick.right\": True,\n",
    "    \"xtick.direction\": \"in\",\n",
    "    \"ytick.direction\": \"in\",\n",
    "    \"font.family\": \"serif\",\n",
    "    \"mathtext.fontset\": \"dejavuserif\"\n",
    "}\n",
    "plt.rcParams.update(params)\n",
    "\n",
    "def cmap_white(cmap_name):\n",
    "    \"\"\"Returns a colormap with white as the lowest value color.\"\"\"\n",
    "    import numpy as np\n",
    "    try:\n",
    "        from matplotlib import cm\n",
    "        from matplotlib.colors import ListedColormap\n",
    "        cmap = cm.get_cmap(cmap_name, 256)\n",
    "    except ValueError:\n",
    "        import seaborn as sns\n",
    "        cmap = sns.color_palette(\"flare\", as_cmap=True)\n",
    "    newcolors = cmap(np.linspace(0, 1, 256))\n",
    "    white = np.array([1, 1, 1, 0])\n",
    "    newcolors[:1, :] = white\n",
    "    cmap_white = ListedColormap(newcolors)\n",
    "    return cmap_white"
   ]
  },
  {
   "cell_type": "code",
   "execution_count": null,
   "id": "d8b6ef9e-787c-4780-981f-74fa35fdcabd",
   "metadata": {},
   "outputs": [],
   "source": [
    "base_path = Path(\"/global/cfs/cdirs/desi/users/bid13/DESI_II/\")\n",
    "patch = \"COSMOS\"\n",
    "hsc_path = base_path / \"target_data\"/ f\"HSC_{patch}_I_mag_lim_24.8.fits\""
   ]
  },
  {
   "cell_type": "code",
   "execution_count": null,
   "id": "eb413400-672e-4a13-8adf-d78df370a19c",
   "metadata": {},
   "outputs": [],
   "source": [
    "def flux_to_mag(flux):\n",
    "    return -2.5*np.log10(flux*1e-9) + 8.90"
   ]
  },
  {
   "cell_type": "code",
   "execution_count": null,
   "id": "441860af-40d1-4d6a-b869-8ca8eb26cc19",
   "metadata": {},
   "outputs": [],
   "source": [
    "hsc_cat = Table.read(hsc_path).to_pandas()\n",
    "hsc_cat[\"i_mag\"] = flux_to_mag(hsc_cat[\"i_cmodel_flux\"])-hsc_cat[\"a_i\"]\n",
    "hsc_cat[\"r_mag\"] = flux_to_mag(hsc_cat[\"r_cmodel_flux\"])-hsc_cat[\"a_r\"]\n",
    "hsc_cat[\"z_mag\"] = flux_to_mag(hsc_cat[\"z_cmodel_flux\"])-hsc_cat[\"a_z\"]\n",
    "hsc_cat[\"g_mag\"] = flux_to_mag(hsc_cat[\"g_cmodel_flux\"])-hsc_cat[\"a_g\"]\n",
    "\n",
    "hsc_cat[\"g_fiber_mag\"] = flux_to_mag(hsc_cat[\"g_fiber_flux\"])-hsc_cat[\"a_g\"]\n",
    "hsc_cat[\"i_fiber_mag\"] = flux_to_mag(hsc_cat[\"i_fiber_flux\"])-hsc_cat[\"a_i\"]\n",
    "hsc_cat[\"r_fiber_mag\"] = flux_to_mag(hsc_cat[\"r_fiber_flux\"])-hsc_cat[\"a_r\"]\n",
    "hsc_cat[\"z_fiber_mag\"] = flux_to_mag(hsc_cat[\"z_fiber_flux\"])-hsc_cat[\"a_z\"]\n",
    "\n",
    "hsc_cat[\"i_mag_psf\"] = flux_to_mag(hsc_cat[\"i_psfflux_flux\"])-hsc_cat[\"a_i\"]\n",
    "# hsc_cat[\"i_fiber_tot_mag\"] = flux_to_mag(hsc_cat[\"i_fiber_tot_flux\"])-hsc_cat[\"a_i\"]"
   ]
  },
  {
   "cell_type": "code",
   "execution_count": null,
   "id": "ca5fa4f7-4bc8-42b9-9d06-f53bc3e7ea68",
   "metadata": {},
   "outputs": [],
   "source": [
    "## Quality cuts\n",
    "# valid I-band flux\n",
    "qmask = np.isfinite(hsc_cat[\"i_cmodel_flux\"]) & (hsc_cat[\"i_cmodel_flux\"]>0)\n",
    "#cmodel fit not failed\n",
    "qmask &= (~hsc_cat[\"i_cmodel_flag\"].values)\n",
    "#General Failure Flag\n",
    "qmask &= (~hsc_cat[\"i_sdsscentroid_flag\"].values)\n",
    "\n",
    "\n",
    "# Possible cuts: Bright objects nearby, bad pixels\n",
    "\n",
    "#star-galaxy separation (is point source in I band)\n",
    "extendedness = hsc_cat[\"i_mag_psf\"]-hsc_cat[\"i_mag\"]\n",
    "mask_ext = (hsc_cat[\"i_mag\"]>23) | (extendedness>0.02)\n",
    "\n",
    "\n",
    "i_min = 18 #potentially 20\n",
    "i_max = 24.5\n",
    "i_mask = (hsc_cat[\"i_mag\"] <i_max) & (hsc_cat[\"i_mag\"] >i_min)\n",
    "\n",
    "#We have decided to not have any color cut or fiber magnitude cut\n",
    "# i_fiber_min = 18\n",
    "# i_fiber_max = 25 \n",
    "# mask &= (hsc_cat[\"i_fiber_mag\"] <i_fiber_max) & (hsc_cat[\"i_fiber_mag\"] >i_fiber_min)"
   ]
  },
  {
   "cell_type": "markdown",
   "id": "f73fa946-e3ac-4730-9c35-cf33e79cb2c1",
   "metadata": {},
   "source": [
    "plot i-mage vs i-fiber-mag distribution for the parent sample"
   ]
  },
  {
   "cell_type": "code",
   "execution_count": null,
   "id": "88cb2521-fbd7-4e82-af64-03a7f43080a5",
   "metadata": {},
   "outputs": [],
   "source": [
    "fig, ax = plt.subplots(1,1, figsize=(5,5),subplot_kw={\"projection\":\"scatter_density\"})\n",
    "ax.scatter_density(hsc_cat[qmask][\"i_mag\"], hsc_cat[qmask][\"i_fiber_mag\"],cmap=cmap_white(\"viridis\"),dpi=1000)\n",
    "ax.set_aspect('equal')\n",
    "x = np.linspace(15,25,100)\n",
    "ax.plot(x,x, ls=\"--\", c=\"k\", alpha=0.5)\n",
    "ax.set_xlim(16,26)\n",
    "ax.set_ylim((16,26))\n",
    "ax.set_xlabel(\"$i$ mag\")\n",
    "ax.set_ylabel(\"$i$ fiber mag\")"
   ]
  },
  {
   "cell_type": "markdown",
   "id": "7f93e283-6505-4eb4-af09-afc89a9c71b0",
   "metadata": {},
   "source": [
    "Plot i-mag distribution of various other DESI samples"
   ]
  },
  {
   "cell_type": "code",
   "execution_count": null,
   "id": "7391cd76-8739-4218-9f3d-9fefda68cc45",
   "metadata": {},
   "outputs": [],
   "source": [
    "plt.hist(hsc_cat[\"i_mag\"][qmask],bins=50, histtype=\"step\", label=\"LSST Y1\")\n",
    "plt.hist(hsc_cat[\"i_mag\"][qmask & (hsc_cat[\"z_mag\"]<20.8)],bins=50, histtype=\"step\", label = \"~DC3R2\")\n",
    "plt.hist(hsc_cat[\"i_mag\"][qmask & (hsc_cat[\"r_mag\"]<19.5)],bins=50, histtype=\"step\", label = \"~BGS\")\n",
    "plt.hist(hsc_cat[\"i_mag\"][qmask & (hsc_cat[\"r_mag\"]<20.1)],bins=50, histtype=\"step\", label = \"~BGS Faint\")\n",
    "plt.hist(hsc_cat[\"i_mag\"][qmask & (hsc_cat[\"g_mag\"]<23.4)],bins=50, histtype=\"step\", label = \"~ELG\")\n",
    "plt.hist(hsc_cat[\"i_mag\"][qmask & (hsc_cat[\"z_mag\"]<21)],bins=50, histtype=\"step\", label = \"~LRG\")\n",
    "for i in np.linspace(18,24.5,14):\n",
    "    plt.axvline(i,c=\"k\",ls=\"--\",alpha=0.2)\n",
    "plt.xlabel(\"$i$-mag\", fontsize=20)\n",
    "plt.yscale(\"log\")\n",
    "plt.legend(loc=\"upper left\", frameon=False)"
   ]
  },
  {
   "cell_type": "markdown",
   "id": "e6a834f2-8cd8-481d-832b-52b5f1a16f14",
   "metadata": {},
   "source": [
    "Star-Galaxy separation"
   ]
  },
  {
   "cell_type": "code",
   "execution_count": null,
   "id": "9f06ceef-b2d8-4339-8203-2e9ba68e337a",
   "metadata": {},
   "outputs": [],
   "source": [
    "extendedness = hsc_cat[\"i_mag_psf\"]-hsc_cat[\"i_mag\"]\n",
    "mask_ext = (hsc_cat[\"i_mag\"]>23) | (extendedness>0.02)\n",
    "\n",
    "\n",
    "\n",
    "qmask_gr = np.isfinite(hsc_cat[\"g_cmodel_flux\"]) & (hsc_cat[\"g_cmodel_flux\"]>0)\n",
    "qmask_gr &= np.isfinite(hsc_cat[\"r_cmodel_flux\"]) & (hsc_cat[\"r_cmodel_flux\"]>0)\n",
    "#cmodel fit not failed\n",
    "qmask_gr &= (~hsc_cat[\"g_cmodel_flag\"].values)\n",
    "qmask_gr &= (~hsc_cat[\"r_cmodel_flag\"].values)\n",
    "#General Failure Flag\n",
    "qmask_gr &= (~hsc_cat[\"g_sdsscentroid_flag\"].values)\n",
    "qmask_gr &= (~hsc_cat[\"r_sdsscentroid_flag\"].values)\n",
    "\n",
    "\n",
    "sels_cat = hsc_cat[qmask & i_mask & qmask_gr & mask_ext]\n",
    "sels_cat = sels_cat.reset_index()\n",
    "\n",
    "gr = sels_cat[\"g_mag\"] - sels_cat[\"r_mag\"]\n",
    "ri = sels_cat[\"r_mag\"] - sels_cat[\"i_mag\"]\n",
    "\n",
    "value_mask = (gr>-1) & (gr<3) & (ri>-0.5) & (ri<2.5)\n",
    "\n",
    "fig, ax = plt.subplots(1,1,subplot_kw={\"projection\":\"scatter_density\"})\n",
    "ax.scatter_density(gr[value_mask], ri[value_mask],cmap=cmap_white(\"viridis\"),dpi=100)\n",
    "ax.set_xlabel(\"$g-r$\")\n",
    "ax.set_ylabel(\"$r-i$\")"
   ]
  },
  {
   "cell_type": "markdown",
   "id": "f367b852-1466-4260-b4c6-62af78ea85f3",
   "metadata": {},
   "source": [
    "Select the final targets and resample to a uniform distribution in i-mag"
   ]
  },
  {
   "cell_type": "code",
   "execution_count": null,
   "id": "22d07264-a956-47c5-848d-8db6528302a8",
   "metadata": {},
   "outputs": [],
   "source": [
    "hist, bin_edges = np.histogram(sels_cat[\"i_mag\"], bins=10000,density=True)\n",
    "bin_edges[-1] = i_max\n",
    "bin_edges[0] = i_min"
   ]
  },
  {
   "cell_type": "code",
   "execution_count": null,
   "id": "24d09890-2b5f-4526-88d6-4e60553a0c53",
   "metadata": {},
   "outputs": [],
   "source": [
    "bin_membership = np.digitize(sels_cat[\"i_mag\"], bin_edges)"
   ]
  },
  {
   "cell_type": "code",
   "execution_count": null,
   "id": "cd24c3d4-eac0-4aa7-a727-7d63a005fdf3",
   "metadata": {},
   "outputs": [],
   "source": [
    "prob = hist[bin_membership-1]\n",
    "\n",
    "weights = 1/prob\n",
    "weights = weights/weights.sum()"
   ]
  },
  {
   "cell_type": "code",
   "execution_count": null,
   "id": "018a461b-490c-47ff-a1a3-e08865a43ce5",
   "metadata": {},
   "outputs": [],
   "source": [
    "rng = np.random.default_rng(seed=42)\n",
    "resample_idx = rng.choice(np.arange(len(sels_cat[\"i_mag\"])), size=25000, replace=False, p=weights)\n",
    "final_sel = sels_cat.iloc[resample_idx]\n",
    "\n",
    "# sample_weights = weights/weights.max()\n",
    "# mymask = rng.uniform(size=len(sample_weights)) < sample_weights\n",
    "# final_sel = sels_cat[mymask]"
   ]
  },
  {
   "cell_type": "code",
   "execution_count": null,
   "id": "dec49dfd-af56-4a40-9091-dfc907ff3830",
   "metadata": {},
   "outputs": [],
   "source": [
    "plt.figure(figsize=(7,5))\n",
    "plt.hist(sels_cat[\"i_mag\"],bins=100, histtype=\"step\", label=\"Magnitude Limited Sample\",lw=2)\n",
    "plt.hist(final_sel[\"i_mag\"],bins=100, histtype=\"step\",  label=\"Uniform Magnitude Sample\",lw=2)\n",
    "\n",
    "# plt.hist(sels_cat[\"i_mag\"][resample_idx][np.isfinite(sels_cat[\"specz_redshift\"][resample_idx])],bins=50, histtype=\"step\", density=True, label=\"Known Redshifts\")\n",
    "plt.axhline(np.mean(np.histogram(sels_cat[\"i_mag\"][resample_idx],bins=100, density=True)[0]), c=\"k\", ls=\"--\")\n",
    "plt.xlabel(\"$i$-band Magnitude\", fontsize=20)\n",
    "plt.ylabel(\"Normalized Frequency\", fontsize=20)\n",
    "plt.yscale(\"log\")\n",
    "plt.legend(loc=\"upper left\",frameon=False)\n",
    "# plt.savefig(\"resampled_distribution.pdf\", bbox_inches=\"tight\")"
   ]
  },
  {
   "cell_type": "code",
   "execution_count": null,
   "id": "3717ccae-ec3c-4b32-bc30-489fda55a1e0",
   "metadata": {},
   "outputs": [],
   "source": [
    "# small_cat = hsc_cat.sample(n=10000)\n",
    "fig, ax = plt.subplots(1,1, figsize=(10,10))\n",
    "ax.scatter(sels_cat.loc[resample_idx, \"ra\"],sels_cat.loc[resample_idx, \"dec\"],marker=\".\",s=1, alpha=1)\n",
    "# plt.scatter(small_cat[\"ra\"],small_cat[\"dec\"],marker=\".\",s=1)\n",
    "# plt.scatter(redm[\"RA\"],redm[\"DEC\"],marker=\".\",s=5, c=\"r\")\n",
    "ra_min = 148\n",
    "ra_max = 152\n",
    "dec_min = 0\n",
    "dec_max = 4\n",
    "\n",
    "ax.set_xlabel(\"RA $\\degree$\", fontsize=20)\n",
    "ax.set_ylabel(\"DEC $\\degree$\", fontsize=20)\n",
    "ax.set_xticks(np.arange(ra_min, ra_max+1, 1))\n",
    "ax.set_xticks(np.arange(ra_min, ra_max+1, 0.5), minor=True)\n",
    "ax.set_yticks(np.arange(dec_min, dec_max+1, 1))\n",
    "ax.set_yticks(np.arange(dec_min, dec_max+1, 0.5), minor=True)\n",
    "ax.set_xlim(ra_max+0.2, ra_min-0.2)\n",
    "ax.set_ylim(dec_min-0.2, dec_max+0.2)\n",
    "# And a corresponding grid\n",
    "ax.grid(which='both')\n",
    "\n",
    "# Or if you want different settings for the grids:\n",
    "ax.grid(which='minor', alpha=0.5)\n",
    "ax.grid(which='major', alpha=0.8)\n",
    "ax.set_title(f\"Target Density: {len(final_sel)/16} per sq deg.\")"
   ]
  },
  {
   "cell_type": "code",
   "execution_count": null,
   "id": "d8df9284-22c9-4131-9a98-64c54eaafa6d",
   "metadata": {},
   "outputs": [],
   "source": [
    "TEST_NAME = \"TEST1\"\n",
    "blank = np.zeros(len(final_sel))\n",
    "Table({\"RA\":final_sel[\"ra\"], \"DEC\":final_sel[\"dec\"], \"PMRA\":blank, \"PMDEC\":blank,\n",
    "       'REF_EPOCH':blank+2000, \"OVERRIDE\":(blank+1).astype(bool),\"I_MAG\": final_sel[\"i_mag\"]}, ).write(base_path / f\"{TEST_NAME}_{patch}_LSSTY1_target_list.fits\", overwrite=True)"
   ]
  },
  {
   "cell_type": "markdown",
   "id": "3c1724e8-2a1f-40f9-9058-1c519e3070ac",
   "metadata": {},
   "source": [
    "### Explore the fiberassign files"
   ]
  },
  {
   "cell_type": "code",
   "execution_count": null,
   "id": "fcd34871-d63d-42cb-91f9-32e3d0e17417",
   "metadata": {},
   "outputs": [],
   "source": [
    "# fa_path = Path(\"/global/cfs/cdirs/desi/survey/fiberassign/special/tertiary/0015/tertiary-targets-0015-assign.fits\")"
   ]
  },
  {
   "cell_type": "code",
   "execution_count": null,
   "id": "a48d4bcd-8b11-487b-8521-b3f1ab20a143",
   "metadata": {},
   "outputs": [],
   "source": [
    "# fa = Table.read(fa_path, hdu=1)\n",
    "# names = [name for name in fa.colnames if len(fa[name].shape) <= 1]\n",
    "# fa = fa[names].to_pandas()"
   ]
  },
  {
   "cell_type": "code",
   "execution_count": null,
   "id": "62bf247a-7de7-43fb-9ab8-a23348e545ac",
   "metadata": {},
   "outputs": [],
   "source": [
    "# fa = fa[fa[\"TERTIARY_TARGET\"].isin([b\"LSST_WLY1_HIP\", b\"LSST_WLY1_LOP\"])]\n",
    "# fa = fa[fa[\"NASSIGN\"]>0]"
   ]
  },
  {
   "cell_type": "code",
   "execution_count": null,
   "id": "51914062-edee-46e4-8d20-fea2b87937fc",
   "metadata": {},
   "outputs": [],
   "source": [
    "# plt.hist(fa[\"NASSIGN\"], bins=np.arange(0,26), histtype=\"step\")\n",
    "# plt.ylabel(\"Count\")\n",
    "# plt.xlabel(\"Number of exposures (1000s)\")\n",
    "# # plt.yscale(\"log\")"
   ]
  },
  {
   "cell_type": "code",
   "execution_count": null,
   "id": "d6033e28-6137-4f07-bc81-b8c48fcc777e",
   "metadata": {},
   "outputs": [],
   "source": [
    "Table.from_pandas(fa).write(\"LSST_WLY1_XMM_LSS_fiber_assigned.fits\")"
   ]
  }
 ],
 "metadata": {
  "kernelspec": {
   "display_name": "DESI master",
   "language": "python",
   "name": "desi-master"
  },
  "language_info": {
   "codemirror_mode": {
    "name": "ipython",
    "version": 3
   },
   "file_extension": ".py",
   "mimetype": "text/x-python",
   "name": "python",
   "nbconvert_exporter": "python",
   "pygments_lexer": "ipython3",
   "version": "3.10.14"
  }
 },
 "nbformat": 4,
 "nbformat_minor": 5
}
