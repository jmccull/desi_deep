{
 "cells": [
  {
   "cell_type": "code",
   "execution_count": null,
   "id": "0e68f66f-d671-480c-90ee-9af67ceda799",
   "metadata": {},
   "outputs": [],
   "source": [
    "from pathlib import Path\n",
    "\n",
    "import numpy as np\n",
    "import pandas as pd\n",
    "import matplotlib.pyplot as plt\n",
    "\n",
    "from astropy.table import Table, hstack, vstack\n",
    "from sklearn.neighbors import KernelDensity\n",
    "from tqdm import tqdm\n",
    "import astropy.units as u\n",
    "from astropy.coordinates import SkyCoord\n",
    "import mpl_scatter_density\n",
    "\n",
    "import numpy as np\n",
    "from matplotlib import cm\n",
    "from matplotlib.patches import Rectangle\n",
    "from matplotlib.colors import ListedColormap\n"
   ]
  },
  {
   "cell_type": "code",
   "execution_count": null,
   "id": "16d4d9be-2e93-4a6f-b028-5c1fd21e6dac",
   "metadata": {},
   "outputs": [],
   "source": [
    "params = {\n",
    "    \"legend.fontsize\": \"x-large\",\n",
    "    \"axes.labelsize\": \"x-large\",\n",
    "    \"axes.titlesize\": \"x-large\",\n",
    "    \"xtick.labelsize\": \"x-large\",\n",
    "    \"ytick.labelsize\": \"x-large\",\n",
    "    \"figure.facecolor\": \"w\",\n",
    "    \"xtick.top\": True,\n",
    "    \"ytick.right\": True,\n",
    "    \"xtick.direction\": \"in\",\n",
    "    \"ytick.direction\": \"in\",\n",
    "    \"font.family\": \"serif\",\n",
    "    \"mathtext.fontset\": \"dejavuserif\"\n",
    "}\n",
    "plt.rcParams.update(params)\n",
    "\n",
    "def cmap_white(cmap_name):\n",
    "    \"\"\"Returns a colormap with white as the lowest value color.\"\"\"\n",
    "    import numpy as np\n",
    "    try:\n",
    "        from matplotlib import cm\n",
    "        from matplotlib.colors import ListedColormap\n",
    "        cmap = cm.get_cmap(cmap_name, 256)\n",
    "    except ValueError:\n",
    "        import seaborn as sns\n",
    "        cmap = sns.color_palette(\"flare\", as_cmap=True)\n",
    "    newcolors = cmap(np.linspace(0, 1, 256))\n",
    "    white = np.array([1, 1, 1, 0])\n",
    "    newcolors[:1, :] = white\n",
    "    cmap_white = ListedColormap(newcolors)\n",
    "    return cmap_white"
   ]
  },
  {
   "cell_type": "code",
   "execution_count": null,
   "id": "d8b6ef9e-787c-4780-981f-74fa35fdcabd",
   "metadata": {},
   "outputs": [],
   "source": [
    "base_path = Path(\"/global/cfs/cdirs/desi/users/bid13/DESI_II/\")\n",
    "patch = \"COSMOS\"\n",
    "hsc_path = base_path / \"target_data\"/ f\"HSC_{patch}_I_mag_lim_24.8.fits\""
   ]
  },
  {
   "cell_type": "code",
   "execution_count": null,
   "id": "eb413400-672e-4a13-8adf-d78df370a19c",
   "metadata": {},
   "outputs": [],
   "source": [
    "def flux_to_mag(flux):\n",
    "    return -2.5*np.log10(flux*1e-9) + 8.90"
   ]
  },
  {
   "cell_type": "code",
   "execution_count": null,
   "id": "441860af-40d1-4d6a-b869-8ca8eb26cc19",
   "metadata": {},
   "outputs": [],
   "source": [
    "hsc_cat = Table.read(hsc_path).to_pandas()\n",
    "hsc_cat[\"i_mag\"] = flux_to_mag(hsc_cat[\"i_cmodel_flux\"])-hsc_cat[\"a_i\"]\n",
    "hsc_cat[\"r_mag\"] = flux_to_mag(hsc_cat[\"r_cmodel_flux\"])-hsc_cat[\"a_r\"]\n",
    "hsc_cat[\"z_mag\"] = flux_to_mag(hsc_cat[\"z_cmodel_flux\"])-hsc_cat[\"a_z\"]\n",
    "hsc_cat[\"g_mag\"] = flux_to_mag(hsc_cat[\"g_cmodel_flux\"])-hsc_cat[\"a_g\"]\n",
    "\n",
    "hsc_cat[\"g_fiber_mag\"] = flux_to_mag(hsc_cat[\"g_fiber_flux\"])-hsc_cat[\"a_g\"]\n",
    "hsc_cat[\"i_fiber_mag\"] = flux_to_mag(hsc_cat[\"i_fiber_flux\"])-hsc_cat[\"a_i\"]\n",
    "hsc_cat[\"r_fiber_mag\"] = flux_to_mag(hsc_cat[\"r_fiber_flux\"])-hsc_cat[\"a_r\"]\n",
    "hsc_cat[\"z_fiber_mag\"] = flux_to_mag(hsc_cat[\"z_fiber_flux\"])-hsc_cat[\"a_z\"]\n",
    "\n",
    "hsc_cat[\"i_mag_psf\"] = flux_to_mag(hsc_cat[\"i_psfflux_flux\"])-hsc_cat[\"a_i\"]\n",
    "# hsc_cat[\"i_fiber_tot_mag\"] = flux_to_mag(hsc_cat[\"i_fiber_tot_flux\"])-hsc_cat[\"a_i\"]"
   ]
  },
  {
   "cell_type": "code",
   "execution_count": null,
   "id": "ca5fa4f7-4bc8-42b9-9d06-f53bc3e7ea68",
   "metadata": {},
   "outputs": [],
   "source": [
    "## Quality cuts\n",
    "# valid I-band flux\n",
    "qmask = np.isfinite(hsc_cat[\"i_cmodel_flux\"]) & (hsc_cat[\"i_cmodel_flux\"]>0)\n",
    "#cmodel fit not failed\n",
    "qmask &= (~hsc_cat[\"i_cmodel_flag\"].values)\n",
    "#General Failure Flag\n",
    "qmask &= (~hsc_cat[\"i_sdsscentroid_flag\"].values)\n",
    "\n",
    "\n",
    "# Possible cuts: Bright objects nearby, bad pixels\n",
    "\n",
    "#star-galaxy separation (is point source in I band)\n",
    "extendedness = hsc_cat[\"i_mag_psf\"]-hsc_cat[\"i_mag\"]\n",
    "mask_ext = (hsc_cat[\"i_mag\"]>23) | (extendedness>0.02)\n",
    "\n",
    "#bright-star-mask\n",
    "bright_mask = hsc_cat[\"i_mask_brightstar_any\"]\n",
    "\n",
    "i_min = 18 #potentially 20\n",
    "i_max = 24.5\n",
    "i_mask = (hsc_cat[\"i_mag\"] <i_max) & (hsc_cat[\"i_mag\"] >i_min)\n",
    "\n",
    "#We have decided to not have any color cut or fiber magnitude cut\n",
    "# i_fiber_min = 18\n",
    "# i_fiber_max = 25 \n",
    "# mask &= (hsc_cat[\"i_fiber_mag\"] <i_fiber_max) & (hsc_cat[\"i_fiber_mag\"] >i_fiber_min)"
   ]
  },
  {
   "cell_type": "markdown",
   "id": "f73fa946-e3ac-4730-9c35-cf33e79cb2c1",
   "metadata": {},
   "source": [
    "plot i-mage vs i-fiber-mag distribution for the parent sample"
   ]
  },
  {
   "cell_type": "code",
   "execution_count": null,
   "id": "88cb2521-fbd7-4e82-af64-03a7f43080a5",
   "metadata": {},
   "outputs": [],
   "source": [
    "fig, ax = plt.subplots(1,1, figsize=(5,5),subplot_kw={\"projection\":\"scatter_density\"})\n",
    "ax.scatter_density(hsc_cat[qmask][\"i_mag\"], hsc_cat[qmask][\"i_fiber_mag\"],cmap=cmap_white(\"viridis\"),dpi=1000)\n",
    "ax.set_aspect('equal')\n",
    "x = np.linspace(15,25,100)\n",
    "ax.plot(x,x, ls=\"--\", c=\"k\", alpha=0.5)\n",
    "ax.set_xlim(16,26)\n",
    "ax.set_ylim((16,26))\n",
    "ax.set_xlabel(\"$i$ mag\")\n",
    "ax.set_ylabel(\"$i$ fiber mag\")"
   ]
  },
  {
   "cell_type": "markdown",
   "id": "7f93e283-6505-4eb4-af09-afc89a9c71b0",
   "metadata": {},
   "source": [
    "Plot i-mag distribution of various other DESI samples"
   ]
  },
  {
   "cell_type": "code",
   "execution_count": null,
   "id": "7391cd76-8739-4218-9f3d-9fefda68cc45",
   "metadata": {},
   "outputs": [],
   "source": [
    "for i in np.linspace(14,24.5,22):\n",
    "    plt.axvline(i,c=\"k\",ls=\"--\",alpha=0.2,lw=1)\n",
    "\n",
    "plt.hist(hsc_cat[\"i_mag\"][qmask & (hsc_cat[\"r_mag\"]<19.5)],bins=50, histtype=\"step\", label = \"~BGS\")\n",
    "plt.hist(hsc_cat[\"i_mag\"][qmask & (hsc_cat[\"r_mag\"]<20.1)],bins=50, histtype=\"step\", label = \"~BGS Faint\")\n",
    "plt.hist(hsc_cat[\"i_mag\"][qmask & (hsc_cat[\"r_mag\"]<21)],bins=50, histtype=\"step\", label = \"~BGS Fainter\")\n",
    "plt.hist(hsc_cat[\"i_mag\"][qmask & (hsc_cat[\"z_mag\"]<20.8)],bins=50, histtype=\"step\", label = \"~DC3R2\")\n",
    "plt.hist(hsc_cat[\"i_mag\"][qmask & (hsc_cat[\"z_mag\"]<21)],bins=50, histtype=\"step\", label = \"~LRG\")\n",
    "\n",
    "plt.hist(hsc_cat[\"i_mag\"][qmask & (hsc_cat[\"g_mag\"]<23.4)],bins=50, histtype=\"step\", label = \"~ELG\")\n",
    "plt.hist(hsc_cat[\"i_mag\"][qmask & (hsc_cat[\"i_mag\"]<24.1)],bins=50, histtype=\"step\", label=\"LSST Y1\")\n",
    "plt.hist(hsc_cat[\"i_mag\"][qmask & (hsc_cat[\"i_mag\"]<24.5)],bins=50, histtype=\"step\", label=\"Proposed\",color=\"k\")\n",
    "\n",
    "    \n",
    "plt.xlabel(\"$i$-mag\", fontsize=20)\n",
    "plt.yscale(\"log\")\n",
    "plt.legend(loc=\"upper left\",fontsize=10)\n"
   ]
  },
  {
   "cell_type": "markdown",
   "id": "e6a834f2-8cd8-481d-832b-52b5f1a16f14",
   "metadata": {},
   "source": [
    "Star-Galaxy separation"
   ]
  },
  {
   "cell_type": "code",
   "execution_count": null,
   "id": "9f06ceef-b2d8-4339-8203-2e9ba68e337a",
   "metadata": {},
   "outputs": [],
   "source": [
    "extendedness = hsc_cat[\"i_mag_psf\"]-hsc_cat[\"i_mag\"]\n",
    "mask_ext = (hsc_cat[\"i_mag\"]>23) | (extendedness>0.02)\n",
    "\n",
    "\n",
    "\n",
    "qmask_gr = np.isfinite(hsc_cat[\"g_cmodel_flux\"]) & (hsc_cat[\"g_cmodel_flux\"]>0)\n",
    "qmask_gr &= np.isfinite(hsc_cat[\"r_cmodel_flux\"]) & (hsc_cat[\"r_cmodel_flux\"]>0)\n",
    "#cmodel fit not failed\n",
    "qmask_gr &= (~hsc_cat[\"g_cmodel_flag\"].values)\n",
    "qmask_gr &= (~hsc_cat[\"r_cmodel_flag\"].values)\n",
    "#General Failure Flag\n",
    "qmask_gr &= (~hsc_cat[\"g_sdsscentroid_flag\"].values)\n",
    "qmask_gr &= (~hsc_cat[\"r_sdsscentroid_flag\"].values)\n",
    "\n",
    "\n",
    "sels_cat = hsc_cat[qmask & i_mask & qmask_gr & mask_ext]\n",
    "sels_cat = sels_cat.reset_index()\n",
    "\n",
    "gr = sels_cat[\"g_mag\"] - sels_cat[\"r_mag\"]\n",
    "ri = sels_cat[\"r_mag\"] - sels_cat[\"i_mag\"]\n",
    "\n",
    "value_mask = (gr>-1) & (gr<3) & (ri>-0.5) & (ri<2.5)# perform rejection sampling\n",
    "    if rejection_scale is None:\n",
    "        rejection_scale = weights.max()\n",
    "\n",
    "fig, ax = plt.subplots(1,1,subplot_kw={\"projection\":\"scatter_density\"})\n",
    "ax.scatter_density(gr[value_mask], ri[value_mask],cmap=cmap_white(\"viridis\"),dpi=100)\n",
    "ax.set_xlabel(\"$g-r$\")\n",
    "ax.set_ylabel(\"$r-i$\")"
   ]
  },
  {
   "cell_type": "markdown",
   "id": "f367b852-1466-4260-b4c6-62af78ea85f3",
   "metadata": {},
   "source": [
    "Select the final targets and resample to a uniform distribution in i-mag"
   ]
  },
  {
   "cell_type": "code",
   "execution_count": null,
   "id": "37ea6020-1180-42ea-a52b-2f75a4cd525c",
   "metadata": {},
   "outputs": [],
   "source": [
    "sels_cat = hsc_cat[qmask & i_mask & mask_ext & bright_mask]\n",
    "sels_cat = sels_cat.reset_index()"
   ]
  },
  {
   "cell_type": "code",
   "execution_count": null,
   "id": "b7d208c7-ac45-4681-9b65-741b853f677e",
   "metadata": {},
   "outputs": [],
   "source": [
    "1/0.001"
   ]
  },
  {
   "cell_type": "code",
   "execution_count": null,
   "id": "a219e33d-63a5-49ea-8fd5-23e4abadf6be",
   "metadata": {},
   "outputs": [],
   "source": [
    "np.linspace(18,19,100)"
   ]
  },
  {
   "cell_type": "code",
   "execution_count": null,
   "id": "6add64cb-c906-41ec-8a1b-328a2b51fad9",
   "metadata": {},
   "outputs": [],
   "source": [
    "def uniform_resample(data, data_min, data_max, bin_size = 0.001, seed=42, rejection_scale = None):\n",
    "    #estimate the density (replace histogram by something else?)\n",
    "    # data_mask = (data>data_min) & (data<=data_min) convert it into assertion instead\n",
    "    data_sel = data.copy()\n",
    "\n",
    "    bins = int((data_max-data_min)/bin_size)\n",
    "    bin_edges = np.linspace(data_min,data_max,bins)\n",
    "    counts, _ = np.histogram(data_sel, bins=bin_edges,density=False)\n",
    "    bin_membership = np.digitize(data_sel, bin_edges,right=True)\n",
    "\n",
    "    weights = counts[bin_membership-1]\n",
    "    weights = 1/weights\n",
    "    weights /= weights.sum()\n",
    "\n",
    "    # perform rejection sampling\n",
    "    if rejection_scale is None:\n",
    "        rejection_scale = weights.max()\n",
    "        \n",
    "    rng = np.random.default_rng(seed=seed)\n",
    "    sampling_mask = rng.uniform(size=len(weights)) < weights/rejection_scale\n",
    "    \n",
    "    return sampling_mask, weights"
   ]
  },
  {
   "cell_type": "code",
   "execution_count": null,
   "id": "3202d0bb-0a34-4113-9d57-d54a7c72a6cd",
   "metadata": {},
   "outputs": [],
   "source": [
    "rejection_scales = [1e-4,1.5e-4,1e-4,5e-5,2e-5,1e-5]\n",
    "mag_bin_mins = [18,19,20,21,22,23]\n",
    "mag_bin_maxs = [19,20,21,22,23,24.5]"
   ]
  },
  {
   "cell_type": "code",
   "execution_count": null,
   "id": "27c8f11c-43be-4afc-82eb-e2c5fdf725bc",
   "metadata": {},
   "outputs": [],
   "source": [
    "final_cat = []\n",
    "sizes = []\n",
    "weights = []\n",
    "for mins,maxs,scales in zip(mag_bin_mins,mag_bin_maxs,rejection_scales):\n",
    "    mag_mask = (sels_cat[\"i_mag\"]>mins) & (sels_cat[\"i_mag\"]<=maxs)\n",
    "    sub_cat = sels_cat[mag_mask]\n",
    "    sample_mask, weight = uniform_resample(sub_cat[\"i_mag\"],mins,maxs,rejection_scale = scales)\n",
    "    final_cat.append(sub_cat[sample_mask])\n",
    "    weights.append(weight[sample_mask])\n",
    "    sizes.append(np.sum(sample_mask))\n",
    "final_cat = pd.concat(final_cat)\n"
   ]
  },
  {
   "cell_type": "code",
   "execution_count": null,
   "id": "e3e983c7-5b17-40ab-972e-bfe9a58b38aa",
   "metadata": {},
   "outputs": [],
   "source": [
    "_ = plt.hist(sels_cat[\"i_mag\"], histtype=\"step\",bins=100)\n",
    "_ = plt.hist(final_cat[\"i_mag\"], histtype=\"step\",bins=100)\n",
    "# plt.yscale(\"log\")\n",
    "plt.ylim(-1,5000)\n",
    "print(sizes)"
   ]
  },
  {
   "cell_type": "code",
   "execution_count": null,
   "id": "018a461b-490c-47ff-a1a3-e08865a43ce5",
   "metadata": {},
   "outputs": [],
   "source": [
    "# rng = np.random.default_rng(seed=42)\n",
    "\n",
    "# weights = weights/weights.sum()\n",
    "# resample_idx = rng.choice(np.arange(len(sels_cat[\"i_mag\"])), size=25000, replace=False, p=weights)\n",
    "# final_sel = sels_cat.iloc[resample_idx]\n",
    "\n",
    "# sample_weights = weights/weights.max()\n",
    "# mymask = rng.uniform(size=len(sample_weights)) < sample_weights\n",
    "# final_sel = sels_cat[mymask]"
   ]
  },
  {
   "cell_type": "code",
   "execution_count": null,
   "id": "dec49dfd-af56-4a40-9091-dfc907ff3830",
   "metadata": {},
   "outputs": [],
   "source": [
    "# plt.figure(figsize=(7,5))\n",
    "# # plt.hist(sels_cat[\"i_mag\"],bins=100, histtype=\"step\", label=\"Magnitude Limited Sample\",lw=2)\n",
    "# plt.hist(final_sel[\"i_mag\"],bins=100, histtype=\"step\",  label=\"Uniform Magnitude Sample\",lw=2)\n",
    "\n",
    "# # plt.hist(sels_cat[\"i_mag\"][resample_idx][np.isfinite(sels_cat[\"specz_redshift\"][resample_idx])],bins=50, histtype=\"step\", density=True, label=\"Known Redshifts\")\n",
    "# # plt.axhline(np.mean(np.histogram(sels_cat[\"i_mag\"][resample_idx],bins=100, density=True)[0]), c=\"k\", ls=\"--\")\n",
    "# plt.xlabel(\"$i$-band Magnitude\", fontsize=20)\n",
    "# plt.ylabel(\"Normalized Frequency\", fontsize=20)\n",
    "# # plt.yscale(\"log\")\n",
    "# plt.legend(loc=\"upper left\",frameon=False)\n",
    "# # plt.savefig(\"resampled_distribution.pdf\", bbox_inches=\"tight\")"
   ]
  },
  {
   "cell_type": "code",
   "execution_count": null,
   "id": "3717ccae-ec3c-4b32-bc30-489fda55a1e0",
   "metadata": {},
   "outputs": [],
   "source": [
    "# small_cat = hsc_cat.sample(n=10000)\n",
    "fig, ax = plt.subplots(1,1, figsize=(10,10))\n",
    "# ax.scatter(sels_cat.loc[resample_idx, \"ra\"],sels_cat.loc[resample_idx, \"dec\"],marker=\".\",s=1, alpha=1)\n",
    "ax.scatter(final_sel[\"ra\"],final_sel[\"dec\"],marker=\".\",s=1, alpha=1)\n",
    "# plt.scatter(small_cat[\"ra\"],small_cat[\"dec\"],marker=\".\",s=1)\n",
    "# plt.scatter(redm[\"RA\"],redm[\"DEC\"],marker=\".\",s=5, c=\"r\")\n",
    "ra_min = 148\n",
    "ra_max = 152\n",
    "dec_min = 0\n",
    "dec_max = 4\n",
    "\n",
    "ax.set_xlabel(\"RA $\\degree$\", fontsize=20)\n",
    "ax.set_ylabel(\"DEC $\\degree$\", fontsize=20)\n",
    "ax.set_xticks(np.arange(ra_min, ra_max+1, 1))\n",
    "ax.set_xticks(np.arange(ra_min, ra_max+1, 0.5), minor=True)\n",
    "ax.set_yticks(np.arange(dec_min, dec_max+1, 1))\n",
    "ax.set_yticks(np.arange(dec_min, dec_max+1, 0.5), minor=True)\n",
    "ax.set_xlim(ra_max+0.2, ra_min-0.2)\n",
    "ax.set_ylim(dec_min-0.2, dec_max+0.2)\n",
    "# And a corresponding grid\n",
    "ax.grid(which='both')\n",
    "\n",
    "# Or if you want different settings for the grids:\n",
    "ax.grid(which='minor', alpha=0.5)\n",
    "ax.grid(which='major', alpha=0.8)\n",
    "ax.set_title(f\"Target Density: {len(final_sel)/16} per sq deg.\")"
   ]
  },
  {
   "cell_type": "code",
   "execution_count": null,
   "id": "d8df9284-22c9-4131-9a98-64c54eaafa6d",
   "metadata": {},
   "outputs": [],
   "source": [
    "TEST_NAME = \"TEST3\"\n",
    "blank = np.zeros(len(final_sel))\n",
    "Table({\"RA\":final_sel[\"ra\"], \"DEC\":final_sel[\"dec\"], \"PMRA\":blank, \"PMDEC\":blank,\n",
    "       'REF_EPOCH':blank+2000, \"OVERRIDE\":(blank+1).astype(bool),\"I_MAG\": final_sel[\"i_mag\"]}, ).write(base_path / f\"{TEST_NAME}_{patch}_LSSTY1_target_list.fits\", overwrite=True)"
   ]
  },
  {
   "cell_type": "code",
   "execution_count": null,
   "id": "886941b0-de9f-454d-a20c-ff5f33ebea42",
   "metadata": {},
   "outputs": [],
   "source": [
    "blank = np.zeros(len(final_sel))\n",
    "Table({\"RA\":final_sel[\"ra\"], \"DEC\":final_sel[\"dec\"],\"radius\":np.ones(len(final_sel))} ).write( f\"{TEST_NAME}_{patch}_LSSTY1_target_list.fits\", overwrite=True)"
   ]
  },
  {
   "cell_type": "markdown",
   "id": "3c1724e8-2a1f-40f9-9058-1c519e3070ac",
   "metadata": {},
   "source": [
    "### Explore the fiberassign files"
   ]
  },
  {
   "cell_type": "code",
   "execution_count": null,
   "id": "fcd34871-d63d-42cb-91f9-32e3d0e17417",
   "metadata": {},
   "outputs": [],
   "source": [
    "# fa_path = Path(\"/global/cfs/cdirs/desi/survey/fiberassign/special/tertiary/0015/tertiary-targets-0015-assign.fits\")"
   ]
  },
  {
   "cell_type": "code",
   "execution_count": null,
   "id": "a48d4bcd-8b11-487b-8521-b3f1ab20a143",
   "metadata": {},
   "outputs": [],
   "source": [
    "# fa = Table.read(fa_path, hdu=1)\n",
    "# names = [name for name in fa.colnames if len(fa[name].shape) <= 1]\n",
    "# fa = fa[names].to_pandas()"
   ]
  },
  {
   "cell_type": "code",
   "execution_count": null,
   "id": "62bf247a-7de7-43fb-9ab8-a23348e545ac",
   "metadata": {},
   "outputs": [],
   "source": [
    "# fa = fa[fa[\"TERTIARY_TARGET\"].isin([b\"LSST_WLY1_HIP\", b\"LSST_WLY1_LOP\"])]\n",
    "# fa = fa[fa[\"NASSIGN\"]>0]"
   ]
  },
  {
   "cell_type": "code",
   "execution_count": null,
   "id": "51914062-edee-46e4-8d20-fea2b87937fc",
   "metadata": {},
   "outputs": [],
   "source": [
    "# plt.hist(fa[\"NASSIGN\"], bins=np.arange(0,26), histtype=\"step\")\n",
    "# plt.ylabel(\"Count\")\n",
    "# plt.xlabel(\"Number of exposures (1000s)\")\n",
    "# # plt.yscale(\"log\")"
   ]
  },
  {
   "cell_type": "code",
   "execution_count": null,
   "id": "d6033e28-6137-4f07-bc81-b8c48fcc777e",
   "metadata": {},
   "outputs": [],
   "source": [
    "Table.from_pandas(fa).write(\"LSST_WLY1_XMM_LSS_fiber_assigned.fits\")"
   ]
  },
  {
   "cell_type": "code",
   "execution_count": null,
   "id": "84990881-4df8-46ec-81e9-255d76543a1e",
   "metadata": {},
   "outputs": [],
   "source": [
    "from scipy.stats import expon\n",
    "import matplotlib.pyplot as plt"
   ]
  },
  {
   "cell_type": "code",
   "execution_count": null,
   "id": "541daa5f-f875-4fda-9a15-ec8a4aeed282",
   "metadata": {},
   "outputs": [],
   "source": [
    "dist = expon(loc=10,scale = 2)\n",
    "x = np.linspace(10,20,100)\n",
    "pdf = dist.pdf(x)\n",
    "\n",
    "sample = dist.rvs(1000000)\n",
    "\n",
    "mask = (sample>10) & (sample<20)\n",
    "\n",
    "sample=sample[mask]"
   ]
  },
  {
   "cell_type": "code",
   "execution_count": null,
   "id": "c48850ba-538e-4a25-b10e-dca933a7b3b8",
   "metadata": {},
   "outputs": [],
   "source": [
    "\n",
    "plt.hist(sample,density=True,bins=1000)\n",
    "plt.plot(x,pdf)"
   ]
  },
  {
   "cell_type": "code",
   "execution_count": null,
   "id": "19bd0a12-a0e0-459f-82f7-5bf22976849a",
   "metadata": {},
   "outputs": [],
   "source": [
    "def ecdf(sample):\n",
    "    sample = np.sort(sample)\n",
    "    x, counts = np.unique(sample, return_counts=True)\n",
    "\n",
    "    # [1].81 \"the fraction of [observations] that are less than or equal to x\n",
    "    events = np.cumsum(counts)\n",
    "    n = sample.size\n",
    "    cdf = events / n\n",
    "\n",
    "    \n",
    "    return x, cdf"
   ]
  },
  {
   "cell_type": "code",
   "execution_count": null,
   "id": "5e3956a9-1a98-42dc-a21b-6f5db38e1f0a",
   "metadata": {},
   "outputs": [],
   "source": [
    "x, ecdf = ecdf(sample)"
   ]
  },
  {
   "cell_type": "code",
   "execution_count": null,
   "id": "c9601b0f-2449-4678-8ab2-a84aa96deaeb",
   "metadata": {},
   "outputs": [],
   "source": [
    "if replace:\n",
    "            if p is not None:\n",
    "                cdf = p.cumsum()\n",
    "                cdf /= cdf[-1]\n",
    "                uniform_samples = self.random_sample(shape)\n",
    "                idx = cdf.searchsorted(uniform_samples, side='right')\n",
    "                idx = np.array(idx, copy=False) # searchsorted returns a scalar"
   ]
  },
  {
   "cell_type": "code",
   "execution_count": null,
   "id": "a67a742a-8205-43d5-9e5a-ad9d5a10c550",
   "metadata": {},
   "outputs": [],
   "source": [
    "if p is not None:\n",
    "                if np.count_nonzero(p > 0) < size:\n",
    "                    raise ValueError(\"Fewer non-zero entries in p than size\")\n",
    "                n_uniq = 0\n",
    "                p = p.copy()\n",
    "                found = np.zeros(shape, dtype=np.int)\n",
    "                flat_found = found.ravel()\n",
    "                while n_uniq < size:\n",
    "                    x = self.rand(size - n_uniq)\n",
    "                    if n_uniq > 0:\n",
    "                        p[flat_found[0:n_uniq]] = 0\n",
    "                    cdf = np.cumsum(p)\n",
    "                    cdf /= cdf[-1]\n",
    "                    new = cdf.searchsorted(x, side='right')\n",
    "                    _, unique_indices = np.unique(new, return_index=True)\n",
    "                    unique_indices.sort()\n",
    "                    new = new.take(unique_indices)\n",
    "                    flat_found[n_uniq:n_uniq + new.size] = new\n",
    "                    n_uniq += new.size\n",
    "                idx = found"
   ]
  }
 ],
 "metadata": {
  "kernelspec": {
   "display_name": "DESI master",
   "language": "python",
   "name": "desi-master"
  },
  "language_info": {
   "codemirror_mode": {
    "name": "ipython",
    "version": 3
   },
   "file_extension": ".py",
   "mimetype": "text/x-python",
   "name": "python",
   "nbconvert_exporter": "python",
   "pygments_lexer": "ipython3",
   "version": "3.10.14"
  }
 },
 "nbformat": 4,
 "nbformat_minor": 5
}
